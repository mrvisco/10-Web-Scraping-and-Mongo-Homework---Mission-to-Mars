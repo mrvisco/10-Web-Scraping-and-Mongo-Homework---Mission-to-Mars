{
 "cells": [
  {
   "cell_type": "code",
   "execution_count": 1,
   "metadata": {
    "scrolled": false
   },
   "outputs": [],
   "source": [
    "# Dependencies\n",
    "import os\n",
    "import pandas as pd\n",
    "from bs4 import BeautifulSoup as bs\n",
    "import requests\n",
    "import splinter\n",
    "import pymongo\n",
    "from splinter import Browser\n",
    "from selenium import webdriver"
   ]
  },
  {
   "cell_type": "code",
   "execution_count": 2,
   "metadata": {},
   "outputs": [],
   "source": [
    "# visit Mars Weather\n",
    "executable_path = {'executable_path': '/Users/mrvis/Downloads/chromedriver'}\n",
    "browser = Browser('chrome', **executable_path, headless=False)\n",
    "url_news = 'https://mars.nasa.gov/news/'\n",
    "browser.visit(url_news)\n",
    "html = browser.html\n",
    "soup = bs(html, \"html.parser\")\n"
   ]
  },
  {
   "cell_type": "code",
   "execution_count": 3,
   "metadata": {},
   "outputs": [],
   "source": [
    "# Retrieve page with the requests module\n",
    "response = requests.get(url_news)"
   ]
  },
  {
   "cell_type": "code",
   "execution_count": 4,
   "metadata": {},
   "outputs": [
    {
     "name": "stdout",
     "output_type": "stream",
     "text": [
      "<Response [200]>\n"
     ]
    }
   ],
   "source": [
    "print(response)"
   ]
  },
  {
   "cell_type": "code",
   "execution_count": 5,
   "metadata": {},
   "outputs": [],
   "source": [
    "#Examine the results, then determine element that contains sought info\n",
    "#print(soup.prettify())"
   ]
  },
  {
   "cell_type": "code",
   "execution_count": 6,
   "metadata": {},
   "outputs": [],
   "source": [
    "news_title = soup.find(\"div\", class_= \"content_title\").find(\"a\").text.strip()"
   ]
  },
  {
   "cell_type": "code",
   "execution_count": 7,
   "metadata": {},
   "outputs": [],
   "source": [
    "news_p = soup.find(\"div\",\"article_teaser_body\").text"
   ]
  },
  {
   "cell_type": "code",
   "execution_count": 8,
   "metadata": {
    "scrolled": true
   },
   "outputs": [
    {
     "name": "stdout",
     "output_type": "stream",
     "text": [
      "NASA's Curiosity Rover Finds an Ancient Oasis on Mars\n",
      "New evidence suggests salty, shallow ponds once dotted a Martian crater — a sign of the planet's drying climate.\n"
     ]
    }
   ],
   "source": [
    "print(news_title)\n",
    "print(news_p)"
   ]
  },
  {
   "cell_type": "code",
   "execution_count": 9,
   "metadata": {},
   "outputs": [],
   "source": [
    "# visit Mars images\n",
    "#executable_path = {'executable_path': '/Users/mrvis/Downloads/chromedriver'}\n",
    "#browser = Browser('chrome', **executable_path, headless=False)\n",
    "url_pic = 'https://www.jpl.nasa.gov/spaceimages/?search=&category=Mars'\n",
    "browser.visit(url_pic)\n",
    "html_pic = browser.html\n",
    "soup = bs(html_pic, \"html.parser\")\n"
   ]
  },
  {
   "cell_type": "code",
   "execution_count": 10,
   "metadata": {},
   "outputs": [],
   "source": [
    "#Examine the results, then determine element that contains sought info\n",
    "#print(soup.prettify())"
   ]
  },
  {
   "cell_type": "code",
   "execution_count": 11,
   "metadata": {},
   "outputs": [],
   "source": [
    "search_area = soup.find(\"div\", class_= \"carousel_items\")\n",
    "#print(search_area.prettify())"
   ]
  },
  {
   "cell_type": "code",
   "execution_count": 12,
   "metadata": {},
   "outputs": [
    {
     "name": "stdout",
     "output_type": "stream",
     "text": [
      "/spaceimages/images/mediumsize/PIA18886_ip.jpg\n"
     ]
    }
   ],
   "source": [
    "# Identify and return URL for the latest image\n",
    "url_picb = search_area.a['data-fancybox-href']\n",
    "print(url_picb)"
   ]
  },
  {
   "cell_type": "code",
   "execution_count": 13,
   "metadata": {},
   "outputs": [
    {
     "name": "stdout",
     "output_type": "stream",
     "text": [
      "https://www.jpl.nasa.gov/spaceimages/images/mediumsize/PIA18886_ip.jpg\n"
     ]
    }
   ],
   "source": [
    "#Combine the two URL's to produce the actual URL for the image\n",
    "url_pica = \"https://www.jpl.nasa.gov\"\n",
    "image_url = url_pica + url_picb\n",
    "print(image_url)"
   ]
  },
  {
   "cell_type": "code",
   "execution_count": 14,
   "metadata": {},
   "outputs": [],
   "source": [
    "# visit Mars twitter\n",
    "#executable_path = {'executable_path': '/Users/mrvis/Downloads/chromedriver'}\n",
    "#browser = Browser('chrome', **executable_path, headless=False)\n",
    "url_twitter = 'https://twitter.com/marswxreport?lang=en'\n",
    "browser.visit(url_twitter)\n",
    "html_twitter = browser.html\n",
    "soup = bs(html_twitter, \"html.parser\")"
   ]
  },
  {
   "cell_type": "code",
   "execution_count": 17,
   "metadata": {},
   "outputs": [
    {
     "name": "stdout",
     "output_type": "stream",
     "text": [
      "[<div class=\"js-tweet-text-container\">\n",
      "<p class=\"TweetTextSize TweetTextSize--normal js-tweet-text tweet-text\" data-aria-label-part=\"0\" lang=\"en\">InSight sol 307 (2019-10-08) low -102.0ºC (-151.6ºF) high -26.8ºC (-16.3ºF)\n",
      "winds from the SSE at 4.9 m/s (11.1 mph) gusting to 18.4 m/s (41.1 mph)\n",
      "pressure at 7.20 hPa<a class=\"twitter-timeline-link u-hidden\" data-pre-embedded=\"true\" dir=\"ltr\" href=\"https://t.co/JJhiWjVPY6\">pic.twitter.com/JJhiWjVPY6</a></p>\n",
      "</div>, <div class=\"js-tweet-text-container\">\n",
      "<p class=\"TweetTextSize TweetTextSize--normal js-tweet-text tweet-text\" data-aria-label-part=\"0\" lang=\"en\">InSight sol 306 (2019-10-07) low -102.7ºC (-152.8ºF) high -25.7ºC (-14.2ºF)\n",
      "winds from the SSE at 5.5 m/s (12.4 mph) gusting to 17.1 m/s (38.3 mph)\n",
      "pressure at 7.20 hPa<a class=\"twitter-timeline-link u-hidden\" data-pre-embedded=\"true\" dir=\"ltr\" href=\"https://t.co/i38dAuQJKJ\">pic.twitter.com/i38dAuQJKJ</a></p>\n",
      "</div>, <div class=\"js-tweet-text-container\">\n",
      "<p class=\"TweetTextSize TweetTextSize--normal js-tweet-text tweet-text\" data-aria-label-part=\"0\" lang=\"en\">InSight sol 305 (2019-10-05) low -104.1ºC (-155.3ºF) high -27.3ºC (-17.1ºF)\n",
      "winds from the SSE at 4.9 m/s (10.9 mph) gusting to 22.2 m/s (49.8 mph)\n",
      "pressure at 7.20 hPa<a class=\"twitter-timeline-link u-hidden\" data-pre-embedded=\"true\" dir=\"ltr\" href=\"https://t.co/Z1xfMgV2cY\">pic.twitter.com/Z1xfMgV2cY</a></p>\n",
      "</div>, <div class=\"js-tweet-text-container\">\n",
      "<p class=\"TweetTextSize TweetTextSize--normal js-tweet-text tweet-text\" data-aria-label-part=\"0\" lang=\"en\">InSight sol 304 (2019-10-04) low -104.3ºC (-155.8ºF) high -25.9ºC (-14.6ºF)\n",
      "winds from the SSE at 5.0 m/s (11.1 mph) gusting to 18.2 m/s (40.8 mph)\n",
      "pressure at 7.20 hPa<a class=\"twitter-timeline-link u-hidden\" data-pre-embedded=\"true\" dir=\"ltr\" href=\"https://t.co/0GHynq2lfF\">pic.twitter.com/0GHynq2lfF</a></p>\n",
      "</div>, <div class=\"js-tweet-text-container\">\n",
      "<p class=\"TweetTextSize TweetTextSize--normal js-tweet-text tweet-text\" data-aria-label-part=\"0\" lang=\"en\">InSight sol 303 (2019-10-03) low -103.9ºC (-155.1ºF) high -26.5ºC (-15.7ºF)\n",
      "winds from the SSE at 4.9 m/s (11.0 mph) gusting to 19.1 m/s (42.8 mph)\n",
      "pressure at 7.20 hPa</p>\n",
      "</div>, <div class=\"js-tweet-text-container\">\n",
      "<p class=\"TweetTextSize TweetTextSize--normal js-tweet-text tweet-text\" data-aria-label-part=\"4\" lang=\"en\">Our atmosphere is beautiful<a class=\"twitter-timeline-link u-hidden\" data-expanded-url=\"https://twitter.com/rtphokie/status/1180266075289718784\" dir=\"ltr\" href=\"https://t.co/v9lJIuip53\" rel=\"nofollow noopener\" target=\"_blank\" title=\"https://twitter.com/rtphokie/status/1180266075289718784\"><span class=\"tco-ellipsis\"></span><span class=\"invisible\">https://</span><span class=\"js-display-url\">twitter.com/rtphokie/statu</span><span class=\"invisible\">s/1180266075289718784</span><span class=\"tco-ellipsis\"><span class=\"invisible\"> </span>…</span></a></p>\n",
      "</div>, <div class=\"js-tweet-text-container\">\n",
      "<p class=\"TweetTextSize TweetTextSize--normal js-tweet-text tweet-text\" data-aria-label-part=\"0\" lang=\"en\">InSight sol 302 (2019-10-02) low -102.0ºC (-151.7ºF) high -25.3ºC (-13.6ºF)\n",
      "winds from the SSE at 4.8 m/s (10.7 mph) gusting to 20.2 m/s (45.1 mph)\n",
      "pressure at 7.30 hPa<a class=\"twitter-timeline-link u-hidden\" data-pre-embedded=\"true\" dir=\"ltr\" href=\"https://t.co/NbIMjFZUpy\">pic.twitter.com/NbIMjFZUpy</a></p>\n",
      "</div>, <div class=\"js-tweet-text-container\">\n",
      "<p class=\"TweetTextSize TweetTextSize--normal js-tweet-text tweet-text\" data-aria-label-part=\"0\" lang=\"en\">InSight sol 301 (2019-10-01) low -103.9ºC (-155.0ºF) high -26.4ºC (-15.5ºF)\n",
      "winds from the SE at 5.0 m/s (11.1 mph) gusting to 17.9 m/s (40.1 mph)\n",
      "pressure at 7.30 hPa<a class=\"twitter-timeline-link u-hidden\" data-pre-embedded=\"true\" dir=\"ltr\" href=\"https://t.co/Mm4WQrmwZr\">pic.twitter.com/Mm4WQrmwZr</a></p>\n",
      "</div>, <div class=\"js-tweet-text-container\">\n",
      "<p class=\"TweetTextSize TweetTextSize--normal js-tweet-text tweet-text\" data-aria-label-part=\"0\" lang=\"en\">InSight sol 300 (2019-09-30) low -103.2ºC (-153.7ºF) high -25.6ºC (-14.1ºF)\n",
      "winds from the SSE at 5.2 m/s (11.6 mph) gusting to 22.0 m/s (49.1 mph)\n",
      "pressure at 7.30 hPa<a class=\"twitter-timeline-link u-hidden\" data-pre-embedded=\"true\" dir=\"ltr\" href=\"https://t.co/bIfhUmZheS\">pic.twitter.com/bIfhUmZheS</a></p>\n",
      "</div>, <div class=\"js-tweet-text-container\">\n",
      "<p class=\"TweetTextSize TweetTextSize--normal js-tweet-text tweet-text\" data-aria-label-part=\"0\" lang=\"en\">InSight sol 299 (2019-09-29) low -101.3ºC (-150.3ºF) high -27.7ºC (-17.8ºF)\n",
      "winds from the SSE at 4.7 m/s (10.6 mph) gusting to 17.3 m/s (38.8 mph)\n",
      "pressure at 7.30 hPa</p>\n",
      "</div>, <div class=\"js-tweet-text-container\">\n",
      "<p class=\"TweetTextSize TweetTextSize--normal js-tweet-text tweet-text\" data-aria-label-part=\"0\" lang=\"en\">Martian sounds alert!\n",
      "I’m equipped with a very sensitive “ear.” My seismometer has been listening for <a class=\"twitter-hashtag pretty-link js-nav\" data-query-source=\"hashtag_click\" dir=\"ltr\" href=\"/hashtag/marsquakes?src=hash\"><s>#</s><b>marsquakes</b></a> and has picked up other interesting signals as well. Grab your headphones and take a listen. <img alt=\"🎧\" aria-label=\"Emoji: Headphone\" class=\"Emoji Emoji--forText\" draggable=\"false\" src=\"https://abs.twimg.com/emoji/v2/72x72/1f3a7.png\" title=\"Headphone\"/>\n",
      "\n",
      "More sounds here: <a class=\"twitter-timeline-link\" data-expanded-url=\"http://go.nasa.gov/2nDjEb1\" dir=\"ltr\" href=\"https://t.co/Oa4wEJu3Am\" rel=\"nofollow noopener\" target=\"_blank\" title=\"http://go.nasa.gov/2nDjEb1\"><span class=\"tco-ellipsis\"></span><span class=\"invisible\">http://</span><span class=\"js-display-url\">go.nasa.gov/2nDjEb1</span><span class=\"invisible\"></span><span class=\"tco-ellipsis\"><span class=\"invisible\"> </span></span></a><a class=\"twitter-timeline-link u-hidden\" data-pre-embedded=\"true\" dir=\"ltr\" href=\"https://t.co/cp8lQkgdyv\">pic.twitter.com/cp8lQkgdyv</a></p>\n",
      "</div>, <div class=\"js-tweet-text-container\">\n",
      "<p class=\"TweetTextSize TweetTextSize--normal js-tweet-text tweet-text\" data-aria-label-part=\"0\" lang=\"en\">Happy 61st Birthday <a class=\"twitter-atreply pretty-link js-nav\" data-mentioned-user-id=\"11348282\" dir=\"ltr\" href=\"/NASA\"><s>@</s><b>NASA</b></a><a class=\"twitter-timeline-link u-hidden\" data-pre-embedded=\"true\" dir=\"ltr\" href=\"https://t.co/f3eBgKEfTI\">pic.twitter.com/f3eBgKEfTI</a></p>\n",
      "</div>, <div class=\"js-tweet-text-container\">\n",
      "<p class=\"TweetTextSize TweetTextSize--normal js-tweet-text tweet-text\" data-aria-label-part=\"0\" lang=\"en\">InSight sol 298 (2019-09-28) low -104.1ºC (-155.5ºF) high -26.8ºC (-16.3ºF)\n",
      "winds from the SW at 4.1 m/s (9.1 mph) gusting to 17.9 m/s (40.0 mph)\n",
      "pressure at 7.30 hPa<a class=\"twitter-timeline-link u-hidden\" data-pre-embedded=\"true\" dir=\"ltr\" href=\"https://t.co/vSIwstlCUg\">pic.twitter.com/vSIwstlCUg</a></p>\n",
      "</div>, <div class=\"js-tweet-text-container\">\n",
      "<p class=\"TweetTextSize TweetTextSize--normal js-tweet-text tweet-text\" data-aria-label-part=\"0\" lang=\"en\">Time is running out to send your name to Mars aboard the 2020 rover, <a class=\"twitter-timeline-link\" data-expanded-url=\"https://go.nasa.gov/2Wlf4gT\" dir=\"ltr\" href=\"https://t.co/aJl17iUiSk\" rel=\"nofollow noopener\" target=\"_blank\" title=\"https://go.nasa.gov/2Wlf4gT\"><span class=\"tco-ellipsis\"></span><span class=\"invisible\">https://</span><span class=\"js-display-url\">go.nasa.gov/2Wlf4gT</span><span class=\"invisible\"></span><span class=\"tco-ellipsis\"><span class=\"invisible\"> </span></span></a> read more at <a class=\"twitter-hashtag pretty-link js-nav\" data-query-source=\"hashtag_click\" dir=\"ltr\" href=\"/hashtag/WRAL?src=hash\"><s>#</s><b>WRAL</b></a> <a class=\"twitter-timeline-link\" data-expanded-url=\"https://www.wral.com/send-your-name-to-mars-or-name-the-mars-rover/18665551/\" dir=\"ltr\" href=\"https://t.co/gftlP01doN\" rel=\"nofollow noopener\" target=\"_blank\" title=\"https://www.wral.com/send-your-name-to-mars-or-name-the-mars-rover/18665551/\"><span class=\"tco-ellipsis\"></span><span class=\"invisible\">https://www.</span><span class=\"js-display-url\">wral.com/send-your-name</span><span class=\"invisible\">-to-mars-or-name-the-mars-rover/18665551/</span><span class=\"tco-ellipsis\"><span class=\"invisible\"> </span>…</span></a><a class=\"twitter-timeline-link u-hidden\" data-pre-embedded=\"true\" dir=\"ltr\" href=\"https://t.co/8oOji4Eb8C\">pic.twitter.com/8oOji4Eb8C</a></p>\n",
      "</div>, <div class=\"js-tweet-text-container\">\n",
      "<p class=\"TweetTextSize TweetTextSize--normal js-tweet-text tweet-text\" data-aria-label-part=\"0\" lang=\"en\">Parker Solar Probe telemetry again being impacted by weather, but not rain this time, wind. Goldstone having gusts of up to 60km/h, enough to knock the antenna slightly off point at K-band. Video shows the dot being predicted and the triangles actual antenna angles.<a class=\"twitter-atreply pretty-link js-nav\" data-mentioned-user-id=\"15102849\" dir=\"ltr\" href=\"/NASASun\"><s>@</s><b>NASASun</b></a><a class=\"twitter-timeline-link u-hidden\" data-pre-embedded=\"true\" dir=\"ltr\" href=\"https://t.co/yurjiab7v8\">pic.twitter.com/yurjiab7v8</a></p>\n",
      "</div>, <div class=\"js-tweet-text-container\">\n",
      "<p class=\"TweetTextSize TweetTextSize--normal js-tweet-text tweet-text\" data-aria-label-part=\"0\" lang=\"en\">Seasons are changing on <a class=\"twitter-hashtag pretty-link js-nav\" data-query-source=\"hashtag_click\" dir=\"ltr\" href=\"/hashtag/Mars?src=hash\"><s>#</s><b>Mars</b></a>, just like on Earth. I’m heading into my first summer here (but not expecting the kind of summer temps you’re probably used to!).<img alt=\"🥶\" aria-label=\"Emoji: Cold face\" class=\"Emoji Emoji--forText\" draggable=\"false\" src=\"https://abs.twimg.com/emoji/v2/72x72/1f976.png\" title=\"Cold face\"/>\n",
      "\n",
      "Latest weather: <a class=\"twitter-timeline-link\" data-expanded-url=\"http://mars.nasa.gov/insight/weather\" dir=\"ltr\" href=\"https://t.co/gqGuWiEtbx\" rel=\"nofollow noopener\" target=\"_blank\" title=\"http://mars.nasa.gov/insight/weather\"><span class=\"tco-ellipsis\"></span><span class=\"invisible\">http://</span><span class=\"js-display-url\">mars.nasa.gov/insight/weather</span><span class=\"invisible\"></span><span class=\"tco-ellipsis\"><span class=\"invisible\"> </span></span></a><a class=\"twitter-timeline-link u-hidden\" data-pre-embedded=\"true\" dir=\"ltr\" href=\"https://t.co/qaNa8Barru\">pic.twitter.com/qaNa8Barru</a></p>\n",
      "</div>, <div class=\"js-tweet-text-container\">\n",
      "<p class=\"TweetTextSize TweetTextSize--normal js-tweet-text tweet-text\" data-aria-label-part=\"0\" lang=\"en\">InSight sol 297 (2019-09-27) low -103.7ºC (-154.7ºF) high -26.1ºC (-15.0ºF)\n",
      "winds from the SSE at 5.4 m/s (12.0 mph) gusting to 18.0 m/s (40.2 mph)\n",
      "pressure at 7.30 hPa<a class=\"twitter-timeline-link u-hidden\" data-pre-embedded=\"true\" dir=\"ltr\" href=\"https://t.co/vp5YUgo4ya\">pic.twitter.com/vp5YUgo4ya</a></p>\n",
      "</div>, <div class=\"js-tweet-text-container\">\n",
      "<p class=\"TweetTextSize TweetTextSize--normal js-tweet-text tweet-text\" data-aria-label-part=\"4\" lang=\"en\">This ship, christened the RocketShip today, will bring the Mars2020 rover’s ride to space to Cape Canaveral next year<a class=\"twitter-timeline-link u-hidden\" data-expanded-url=\"https://twitter.com/torybruno/status/1177720872708165634\" dir=\"ltr\" href=\"https://t.co/aCgNO84VEj\" rel=\"nofollow noopener\" target=\"_blank\" title=\"https://twitter.com/torybruno/status/1177720872708165634\"><span class=\"tco-ellipsis\"></span><span class=\"invisible\">https://</span><span class=\"js-display-url\">twitter.com/torybruno/stat</span><span class=\"invisible\">us/1177720872708165634</span><span class=\"tco-ellipsis\"><span class=\"invisible\"> </span>…</span></a></p>\n",
      "</div>, <div class=\"js-tweet-text-container\">\n",
      "<p class=\"TweetTextSize TweetTextSize--normal js-tweet-text tweet-text\" data-aria-label-part=\"0\" lang=\"en\">InSight sol 296 (2019-09-26) low -102.9ºC (-153.2ºF) high -26.4ºC (-15.5ºF)\n",
      "winds from the SSE at 5.1 m/s (11.5 mph) gusting to 18.2 m/s (40.7 mph)\n",
      "pressure at 7.30 hPa<a class=\"twitter-timeline-link u-hidden\" data-pre-embedded=\"true\" dir=\"ltr\" href=\"https://t.co/N3UuNIqFhF\">pic.twitter.com/N3UuNIqFhF</a></p>\n",
      "</div>, <div class=\"js-tweet-text-container\">\n",
      "<p class=\"TweetTextSize TweetTextSize--normal js-tweet-text tweet-text\" data-aria-label-part=\"0\" lang=\"en\">InSight sol 295 (2019-09-25) low -102.1ºC (-151.8ºF) high -26.6ºC (-15.9ºF)\n",
      "winds from the SSE at 4.9 m/s (11.0 mph) gusting to 17.9 m/s (40.0 mph)\n",
      "pressure at 7.30 hPa</p>\n",
      "</div>]\n"
     ]
    }
   ],
   "source": [
    "search_twitter = soup.find_all(\"div\", class_= \"js-tweet-text-container\")\n",
    "#print(search_twitter)"
   ]
  },
  {
   "cell_type": "code",
   "execution_count": 18,
   "metadata": {
    "scrolled": false
   },
   "outputs": [
    {
     "name": "stdout",
     "output_type": "stream",
     "text": [
      "InSight sol 307 (2019-10-08) low -102.0ºC (-151.6ºF) high -26.8ºC (-16.3ºF)\n",
      "winds from the SSE at 4.9 m/s (11.1 mph) gusting to 18.4 m/s (41.1 mph)\n",
      "pressure at 7.20 hPapic.twitter.com/JJhiWjVPY6\n"
     ]
    }
   ],
   "source": [
    "# Retrieve the weather related tweet\n",
    "for tweet in search_twitter: \n",
    "    mars_weather = tweet.find('p').text\n",
    "    if 'Sol' and 'pressure' in mars_weather:\n",
    "        print(mars_weather)\n",
    "        break\n",
    "    else: \n",
    "        pass"
   ]
  },
  {
   "cell_type": "code",
   "execution_count": 19,
   "metadata": {},
   "outputs": [],
   "source": [
    "#url_fact = 'https://space-facts.com/mars/'"
   ]
  },
  {
   "cell_type": "code",
   "execution_count": 20,
   "metadata": {},
   "outputs": [],
   "source": [
    "# visit Mars twitter\n",
    "#executable_path = {'executable_path': '/Users/mrvis/Downloads/chromedriver'}\n",
    "#browser = Browser('chrome', **executable_path, headless=False)\n",
    "url_fact = 'https://space-facts.com/mars/'\n",
    "browser.visit(url_fact)\n",
    "html_facts = browser.html\n",
    "soup = bs(html_facts, \"html.parser\")"
   ]
  },
  {
   "cell_type": "code",
   "execution_count": 21,
   "metadata": {},
   "outputs": [
    {
     "name": "stdout",
     "output_type": "stream",
     "text": [
      "<table class=\"tablepress tablepress-id-p-mars\" id=\"tablepress-p-mars\">\n",
      " <tbody>\n",
      "  <tr class=\"row-1 odd\">\n",
      "   <td class=\"column-1\">\n",
      "    <strong>\n",
      "     Equatorial Diameter:\n",
      "    </strong>\n",
      "   </td>\n",
      "   <td class=\"column-2\">\n",
      "    6,792 km\n",
      "    <br/>\n",
      "   </td>\n",
      "  </tr>\n",
      "  <tr class=\"row-2 even\">\n",
      "   <td class=\"column-1\">\n",
      "    <strong>\n",
      "     Polar Diameter:\n",
      "    </strong>\n",
      "   </td>\n",
      "   <td class=\"column-2\">\n",
      "    6,752 km\n",
      "    <br/>\n",
      "   </td>\n",
      "  </tr>\n",
      "  <tr class=\"row-3 odd\">\n",
      "   <td class=\"column-1\">\n",
      "    <strong>\n",
      "     Mass:\n",
      "    </strong>\n",
      "   </td>\n",
      "   <td class=\"column-2\">\n",
      "    6.39 × 10^23 kg\n",
      "    <br/>\n",
      "    (0.11 Earths)\n",
      "   </td>\n",
      "  </tr>\n",
      "  <tr class=\"row-4 even\">\n",
      "   <td class=\"column-1\">\n",
      "    <strong>\n",
      "     Moons:\n",
      "    </strong>\n",
      "   </td>\n",
      "   <td class=\"column-2\">\n",
      "    2 (\n",
      "    <a href=\"https://space-facts.com/moons/phobos/\">\n",
      "     Phobos\n",
      "    </a>\n",
      "    &amp;\n",
      "    <a href=\"https://space-facts.com/moons/deimos/\">\n",
      "     Deimos\n",
      "    </a>\n",
      "    )\n",
      "   </td>\n",
      "  </tr>\n",
      "  <tr class=\"row-5 odd\">\n",
      "   <td class=\"column-1\">\n",
      "    <strong>\n",
      "     Orbit Distance:\n",
      "    </strong>\n",
      "   </td>\n",
      "   <td class=\"column-2\">\n",
      "    227,943,824 km\n",
      "    <br/>\n",
      "    (1.38 AU)\n",
      "   </td>\n",
      "  </tr>\n",
      "  <tr class=\"row-6 even\">\n",
      "   <td class=\"column-1\">\n",
      "    <strong>\n",
      "     Orbit Period:\n",
      "    </strong>\n",
      "   </td>\n",
      "   <td class=\"column-2\">\n",
      "    687 days (1.9 years)\n",
      "    <br/>\n",
      "   </td>\n",
      "  </tr>\n",
      "  <tr class=\"row-7 odd\">\n",
      "   <td class=\"column-1\">\n",
      "    <strong>\n",
      "     Surface Temperature:\n",
      "    </strong>\n",
      "   </td>\n",
      "   <td class=\"column-2\">\n",
      "    -87 to -5 °C\n",
      "   </td>\n",
      "  </tr>\n",
      "  <tr class=\"row-8 even\">\n",
      "   <td class=\"column-1\">\n",
      "    <strong>\n",
      "     First Record:\n",
      "    </strong>\n",
      "   </td>\n",
      "   <td class=\"column-2\">\n",
      "    2nd millennium BC\n",
      "   </td>\n",
      "  </tr>\n",
      "  <tr class=\"row-9 odd\">\n",
      "   <td class=\"column-1\">\n",
      "    <strong>\n",
      "     Recorded By:\n",
      "    </strong>\n",
      "   </td>\n",
      "   <td class=\"column-2\">\n",
      "    Egyptian astronomers\n",
      "   </td>\n",
      "  </tr>\n",
      " </tbody>\n",
      "</table>\n"
     ]
    }
   ],
   "source": [
    "search_facts = soup.find(\"table\", class_= \"tablepress tablepress-id-p-mars\")\n",
    "print(search_facts.prettify())"
   ]
  },
  {
   "cell_type": "code",
   "execution_count": 22,
   "metadata": {},
   "outputs": [
    {
     "data": {
      "text/plain": [
       "[  Mars - Earth Comparison             Mars            Earth\n",
       " 0               Diameter:         6,779 km        12,742 km\n",
       " 1                   Mass:  6.39 × 10^23 kg  5.97 × 10^24 kg\n",
       " 2                  Moons:                2                1\n",
       " 3      Distance from Sun:   227,943,824 km   149,598,262 km\n",
       " 4         Length of Year:   687 Earth days      365.24 days\n",
       " 5            Temperature:    -153 to 20 °C      -88 to 58°C,\n",
       "                       0                              1\n",
       " 0  Equatorial Diameter:                       6,792 km\n",
       " 1       Polar Diameter:                       6,752 km\n",
       " 2                 Mass:  6.39 × 10^23 kg (0.11 Earths)\n",
       " 3                Moons:            2 (Phobos & Deimos)\n",
       " 4       Orbit Distance:       227,943,824 km (1.38 AU)\n",
       " 5         Orbit Period:           687 days (1.9 years)\n",
       " 6  Surface Temperature:                   -87 to -5 °C\n",
       " 7         First Record:              2nd millennium BC\n",
       " 8          Recorded By:           Egyptian astronomers]"
      ]
     },
     "execution_count": 22,
     "metadata": {},
     "output_type": "execute_result"
    }
   ],
   "source": [
    "tables = pd.read_html(url_fact)\n",
    "tables"
   ]
  },
  {
   "cell_type": "code",
   "execution_count": 23,
   "metadata": {},
   "outputs": [
    {
     "name": "stdout",
     "output_type": "stream",
     "text": [
      "            Parameter             Mars            Earth\n",
      "0           Diameter:         6,779 km        12,742 km\n",
      "1               Mass:  6.39 × 10^23 kg  5.97 × 10^24 kg\n",
      "2              Moons:                2                1\n",
      "3  Distance from Sun:   227,943,824 km   149,598,262 km\n",
      "4     Length of Year:   687 Earth days      365.24 days\n",
      "5        Temperature:    -153 to 20 °C      -88 to 58°C\n"
     ]
    }
   ],
   "source": [
    "df1 = tables[0]\n",
    "df1.columns = ['Parameter', 'Mars', 'Earth']\n",
    "print(df1)"
   ]
  },
  {
   "cell_type": "code",
   "execution_count": 24,
   "metadata": {},
   "outputs": [
    {
     "name": "stdout",
     "output_type": "stream",
     "text": [
      "              Parameter                          Value\n",
      "0  Equatorial Diameter:                       6,792 km\n",
      "1       Polar Diameter:                       6,752 km\n",
      "2                 Mass:  6.39 × 10^23 kg (0.11 Earths)\n",
      "3                Moons:            2 (Phobos & Deimos)\n",
      "4       Orbit Distance:       227,943,824 km (1.38 AU)\n",
      "5         Orbit Period:           687 days (1.9 years)\n",
      "6  Surface Temperature:                   -87 to -5 °C\n",
      "7         First Record:              2nd millennium BC\n",
      "8          Recorded By:           Egyptian astronomers\n"
     ]
    }
   ],
   "source": [
    "df2 = tables[1]\n",
    "df2.columns = ['Parameter','Value']\n",
    "print(df2)"
   ]
  },
  {
   "cell_type": "code",
   "execution_count": 37,
   "metadata": {
    "scrolled": true
   },
   "outputs": [],
   "source": [
    "html_table1 = df1.to_html()\n",
    "#html_table1"
   ]
  },
  {
   "cell_type": "code",
   "execution_count": 38,
   "metadata": {},
   "outputs": [
    {
     "data": {
      "text/plain": [
       "'<table border=\"1\" class=\"dataframe\">  <thead>    <tr style=\"text-align: right;\">      <th></th>      <th>Parameter</th>      <th>Mars</th>      <th>Earth</th>    </tr>  </thead>  <tbody>    <tr>      <th>0</th>      <td>Diameter:</td>      <td>6,779 km</td>      <td>12,742 km</td>    </tr>    <tr>      <th>1</th>      <td>Mass:</td>      <td>6.39 × 10^23 kg</td>      <td>5.97 × 10^24 kg</td>    </tr>    <tr>      <th>2</th>      <td>Moons:</td>      <td>2</td>      <td>1</td>    </tr>    <tr>      <th>3</th>      <td>Distance from Sun:</td>      <td>227,943,824 km</td>      <td>149,598,262 km</td>    </tr>    <tr>      <th>4</th>      <td>Length of Year:</td>      <td>687 Earth days</td>      <td>365.24 days</td>    </tr>    <tr>      <th>5</th>      <td>Temperature:</td>      <td>-153 to 20 °C</td>      <td>-88 to 58°C</td>    </tr>  </tbody></table>'"
      ]
     },
     "execution_count": 38,
     "metadata": {},
     "output_type": "execute_result"
    }
   ],
   "source": [
    "html_table1.replace('\\n', '')"
   ]
  },
  {
   "cell_type": "code",
   "execution_count": 39,
   "metadata": {},
   "outputs": [],
   "source": [
    "html_table2 = df2.to_html()\n",
    "#html_table2"
   ]
  },
  {
   "cell_type": "code",
   "execution_count": 28,
   "metadata": {},
   "outputs": [
    {
     "data": {
      "text/plain": [
       "'<table border=\"1\" class=\"dataframe\">  <thead>    <tr style=\"text-align: right;\">      <th></th>      <th>Parameter</th>      <th>Value</th>    </tr>  </thead>  <tbody>    <tr>      <th>0</th>      <td>Equatorial Diameter:</td>      <td>6,792 km</td>    </tr>    <tr>      <th>1</th>      <td>Polar Diameter:</td>      <td>6,752 km</td>    </tr>    <tr>      <th>2</th>      <td>Mass:</td>      <td>6.39 × 10^23 kg (0.11 Earths)</td>    </tr>    <tr>      <th>3</th>      <td>Moons:</td>      <td>2 (Phobos &amp; Deimos)</td>    </tr>    <tr>      <th>4</th>      <td>Orbit Distance:</td>      <td>227,943,824 km (1.38 AU)</td>    </tr>    <tr>      <th>5</th>      <td>Orbit Period:</td>      <td>687 days (1.9 years)</td>    </tr>    <tr>      <th>6</th>      <td>Surface Temperature:</td>      <td>-87 to -5 °C</td>    </tr>    <tr>      <th>7</th>      <td>First Record:</td>      <td>2nd millennium BC</td>    </tr>    <tr>      <th>8</th>      <td>Recorded By:</td>      <td>Egyptian astronomers</td>    </tr>  </tbody></table>'"
      ]
     },
     "execution_count": 28,
     "metadata": {},
     "output_type": "execute_result"
    }
   ],
   "source": [
    "html_table2.replace('\\n', '')"
   ]
  },
  {
   "cell_type": "code",
   "execution_count": 29,
   "metadata": {},
   "outputs": [],
   "source": [
    "df1.to_html('table1.html')"
   ]
  },
  {
   "cell_type": "code",
   "execution_count": 30,
   "metadata": {},
   "outputs": [],
   "source": [
    "df2.to_html('table2.html')"
   ]
  },
  {
   "cell_type": "code",
   "execution_count": 35,
   "metadata": {},
   "outputs": [],
   "source": [
    "# visit Mars images\n",
    "#executable_path = {'executable_path': '/Users/mrvis/Downloads/chromedriver'}\n",
    "#browser = Browser('chrome', **executable_path, headless=False)\n",
    "url_astro = 'https://astrogeology.usgs.gov/search/results?q=hemisphere+enhanced&k1=target&v1=Mars'\n",
    "browser.visit(url_astro)\n",
    "html_astro = browser.html\n",
    "soup = bs(html_astro, \"html.parser\")"
   ]
  },
  {
   "cell_type": "code",
   "execution_count": 36,
   "metadata": {},
   "outputs": [
    {
     "data": {
      "text/plain": [
       "[{'title': 'Cerberus Hemisphere Enhanced',\n",
       "  'img_url': 'https://astrogeology.usgs.gov/cache/images/cfa62af2557222a02478f1fcd781d445_cerberus_enhanced.tif_full.jpg'},\n",
       " {'title': 'Schiaparelli Hemisphere Enhanced',\n",
       "  'img_url': 'https://astrogeology.usgs.gov/cache/images/3cdd1cbf5e0813bba925c9030d13b62e_schiaparelli_enhanced.tif_full.jpg'},\n",
       " {'title': 'Syrtis Major Hemisphere Enhanced',\n",
       "  'img_url': 'https://astrogeology.usgs.gov/cache/images/ae209b4e408bb6c3e67b6af38168cf28_syrtis_major_enhanced.tif_full.jpg'},\n",
       " {'title': 'Valles Marineris Hemisphere Enhanced',\n",
       "  'img_url': 'https://astrogeology.usgs.gov/cache/images/7cf2da4bf549ed01c17f206327be4db7_valles_marineris_enhanced.tif_full.jpg'}]"
      ]
     },
     "execution_count": 36,
     "metadata": {},
     "output_type": "execute_result"
    }
   ],
   "source": [
    "# Parse HTML with Beautiful Soup and Retreive all items that contain mars hemispheres information\n",
    "items = soup.find_all('div', class_='item')\n",
    "\n",
    "# Create empty list for hemisphere urls and Store the main_ul\n",
    "astro_image_urls = [] \n",
    "astro_main_url = 'https://astrogeology.usgs.gov'\n",
    "\n",
    "# Loop through the items\n",
    "for i in items: \n",
    "    # Store title and link that leads to full image website\n",
    "    title = i.find('h3').text\n",
    "    partial_img_url = i.find('a', class_='itemLink product-item')['href']\n",
    "    \n",
    "    # Visit the link that contains the full image website \n",
    "    browser.visit(astro_main_url + partial_img_url)\n",
    "    \n",
    "    # HTML Object of individual hemisphere information website \n",
    "    partial_img_html = browser.html\n",
    "    soup = bs(partial_img_html, 'html.parser')\n",
    "    \n",
    "    # Retrieve full image source and append the retreived information into a list of dictionaries \n",
    "    img_url = astro_main_url + soup.find('img', class_='wide-image')['src']\n",
    "    astro_image_urls.append({\"title\" : title, \"img_url\" : img_url})\n",
    "    \n",
    "# Display hemisphere_image_urls\n",
    "astro_image_urls"
   ]
  },
  {
   "cell_type": "code",
   "execution_count": null,
   "metadata": {},
   "outputs": [],
   "source": [
    "# !ipython nbconvert --to=python mission_to_mars.ipynb"
   ]
  },
  {
   "cell_type": "code",
   "execution_count": null,
   "metadata": {},
   "outputs": [],
   "source": []
  },
  {
   "cell_type": "code",
   "execution_count": null,
   "metadata": {},
   "outputs": [],
   "source": []
  },
  {
   "cell_type": "code",
   "execution_count": null,
   "metadata": {},
   "outputs": [],
   "source": []
  },
  {
   "cell_type": "code",
   "execution_count": null,
   "metadata": {},
   "outputs": [],
   "source": []
  }
 ],
 "metadata": {
  "kernelspec": {
   "display_name": "Python 3",
   "language": "python",
   "name": "python3"
  },
  "language_info": {
   "codemirror_mode": {
    "name": "ipython",
    "version": 3
   },
   "file_extension": ".py",
   "mimetype": "text/x-python",
   "name": "python",
   "nbconvert_exporter": "python",
   "pygments_lexer": "ipython3",
   "version": "3.7.1"
  }
 },
 "nbformat": 4,
 "nbformat_minor": 2
}
